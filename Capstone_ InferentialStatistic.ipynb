{
 "cells": [
  {
   "cell_type": "code",
   "execution_count": 1,
   "metadata": {
    "collapsed": true
   },
   "outputs": [],
   "source": [
    "import distutils\n",
    "import distutils.util\n",
    "import numpy as np\n",
    "import matplotlib\n",
    "import matplotlib.pyplot as plt\n",
    "import seaborn as sns\n",
    "import pandas as pd\n",
    "import os\n",
    "import os.path as opath\n",
    "import ast\n",
    "import json\n",
    "from pandas.io.json import json_normalize\n",
    "import datetime\n",
    "import pickle\n",
    "import re\n",
    "from datetime import datetime\n",
    "from IPython.core.display import HTML\n",
    "from IPython.core.interactiveshell import InteractiveShell\n",
    "import scipy.stats as stats\n",
    "import statsmodels.stats.weightstats as wstats\n",
    "import math\n",
    "InteractiveShell.ast_node_interactivity = \"all\"\n",
    "%matplotlib inline"
   ]
  },
  {
   "cell_type": "markdown",
   "metadata": {},
   "source": [
    "<div class=\"span5 alert alert-info\">\n",
    "<h2>Note book details</h2>\n",
    "\n",
    "<p> This notebook is for <b>data story</b> for <b>kickstarter success prediction</b> project.</p>\n",
    "\n",
    "<p> Notes.</p>\n",
    "<ol>\n",
    "<li>  The file will utlize the pickle file crated in third part of for data wrangling</li> \n",
    "<li>  The file will perform exploratory analysis on the kickstarter data with some </li> \n",
    "<li>  The file will address the question with explanation  during analysis</li> \n",
    "<li>  The Questions analyzed are as follows: \n",
    "    <ul>\n",
    "     <li>Question 1 : What is project count as per project status? What is successful and failed ratio ?</li>\n",
    "     <li>Question 2 : Is there relationship with year,month of launch date for successful or Failed?</li>\n",
    "     <li>Question 3 : Is there relationship with goal amount in success of failure of  project?</li>\n",
    "     <li>Question 4 : Is there relationship with pledge amount in success of failure of  project?</li>\n",
    "     <li>Question 5 : Is there relationship with pldege to goal ration in success of failure of  project?</li>\n",
    "     <li>Question 6 : Is there relationship with pldege to no of backers ration in success of failure of  project?</li>\n",
    "     <li>Question 7 : Is there relationship with no of backers in success of failure of  project?</li>\n",
    "     <li>Question 8 : Which country are having most and least successful or failed project?</li>\n",
    "     <li>Question 9 : Does staff pick maked more successful projects?</li>\n",
    "\t <li>Question 10 : What categories are having most and least successful or failed project?</li>\n",
    "     <li>Question 11 : What location type are having most and least successful or failed project?</li>\n",
    "    </ul>\n",
    "</li>        \n",
    "</ol>\n",
    "</div>"
   ]
  },
  {
   "cell_type": "code",
   "execution_count": 2,
   "metadata": {},
   "outputs": [
    {
     "data": {
      "text/plain": [
       "\"graph_color_palette=[\\n    color_success, #kickstarter green#'#2BDE73'\\n    '#55ee99',# kickstarete light green\\n    'brown',\\n    'grey'\\n    ,color_fail # red\\n]\\n\""
      ]
     },
     "execution_count": 2,
     "metadata": {},
     "output_type": "execute_result"
    }
   ],
   "source": [
    "pd.set_option('display.max_colwidth', -1)\n",
    "color_success='#00ff66'#kickstarter green#'#2BDE73'\n",
    "color_fail='#FF192F'#'#FFC7CE'#'#FFC7CE'#'#FF0000' # red\n",
    "'''graph_color_palette=[\n",
    "    color_success, #kickstarter green#'#2BDE73'\n",
    "    '#55ee99',# kickstarete light green\n",
    "    'brown',\n",
    "    'grey'\n",
    "    ,color_fail # red\n",
    "]\n",
    "'''\n",
    "stateSuccess='Successful'\n",
    "stateFail='Failed'\n",
    "# the statistical significance value is 5%\n",
    "stat_significance =0.05"
   ]
  },
  {
   "cell_type": "code",
   "execution_count": 3,
   "metadata": {},
   "outputs": [
    {
     "data": {
      "text/html": [
       "<style>body {\n",
       "    margin: 0;\n",
       "    font-family: Helvetica;\n",
       "}\n",
       "table.dataframe {\n",
       "    border-collapse: collapse;\n",
       "    border: none;\n",
       "}\n",
       "table.dataframe tr {\n",
       "    border: none;\n",
       "}\n",
       "table.dataframe td, table.dataframe th {\n",
       "    margin: 0;\n",
       "    border: 1px solid white;\n",
       "    padding-left: 0.25em;\n",
       "    padding-right: 0.25em;\n",
       "}\n",
       "table.dataframe th:not(:empty) {\n",
       "    background-color: #fec;\n",
       "    text-align: left;\n",
       "    font-weight: normal;\n",
       "}\n",
       "table.dataframe tr:nth-child(2) th:empty {\n",
       "    border-left: none;\n",
       "    border-right: 1px dashed #888;\n",
       "}\n",
       "table.dataframe td {\n",
       "    border: 2px solid #ccf;\n",
       "    background-color: #f4f4ff;\n",
       "}\n",
       "h3 {\n",
       "    color: white;\n",
       "    background-color: black;\n",
       "    padding: 0.5em;\n",
       "}\n",
       " .analysis {background:#5bffc0; }</style>"
      ],
      "text/plain": [
       "<IPython.core.display.HTML object>"
      ]
     },
     "execution_count": 3,
     "metadata": {},
     "output_type": "execute_result"
    }
   ],
   "source": [
    "# from IPython.core.display import HTML\n",
    "css = open('style/style-table.css').read() + open('style/style-notebook.css').read()\n",
    "cssAnalysis = '.analysis {background:#5bffc0; }'\n",
    "HTML('<style>{} {}</style>'.format(css,cssAnalysis))\n",
    "pickle_file='DataStory_Jan2017_Jan2018.sa'\n",
    "df_final_months = pickle.load( open( pickle_file, \"rb\" ) )\n",
    "#df_final_months.info()\n",
    "#df_final_months.head()"
   ]
  },
  {
   "cell_type": "code",
   "execution_count": 4,
   "metadata": {
    "collapsed": true
   },
   "outputs": [],
   "source": [
    "# filter out suspened, cancleed and live projects\n",
    "df_fail_success= df_final_months[(df_final_months.state==stateSuccess) | (df_final_months.state==stateFail)]\n",
    "_=df_fail_success.set_index('project_id')\n",
    "#df_fail_success.head()"
   ]
  },
  {
   "cell_type": "code",
   "execution_count": null,
   "metadata": {
    "collapsed": true
   },
   "outputs": [],
   "source": [
    "\n"
   ]
  },
  {
   "cell_type": "markdown",
   "metadata": {},
   "source": [
    "<div class=\"span5 alert alert-info analysis\" >\n",
    "<h4>\n",
    "Conclusion : What is project count as per project status? What is successful and failed ratio ?</h4>\n",
    "    <ul>\n",
    "     <li> Most project belongs to Success and Failed Status. The status Canceled and Suspended are negligible </li> \n",
    "     <li> The status Live is for status still active and should be filtered  </li> \n",
    "     <li> There are more Failed then Successful projects but have very close numbers </li> \n",
    "    </ul>\n",
    "</div>"
   ]
  },
  {
   "cell_type": "code",
   "execution_count": 5,
   "metadata": {
    "collapsed": true
   },
   "outputs": [],
   "source": [
    "def SampleMean(col):\n",
    "    mean=df_fail_success[col].mean()\n",
    "    print('The sample mean is '+str(mean))\n",
    "    return mean"
   ]
  },
  {
   "cell_type": "code",
   "execution_count": 6,
   "metadata": {
    "collapsed": true
   },
   "outputs": [],
   "source": [
    "def StandardDeviation(col):\n",
    "    sd=df_fail_success[col].std()\n",
    "    print('The sample standard deviation is '+ str(sd))\n",
    "    return sd"
   ]
  },
  {
   "cell_type": "code",
   "execution_count": 7,
   "metadata": {
    "collapsed": true
   },
   "outputs": [],
   "source": [
    "def CorrelationCofficent(colx,coly):\n",
    "    corre_coff,p_value =stats.pearsonr(df_fail_success[colx],df_fail_success[coly])\n",
    "    print('The CorrelationCofficent is {} and p value is {}'.format(corre_coff,p_value))\n",
    "    return (corre_coff,p_value)"
   ]
  },
  {
   "cell_type": "code",
   "execution_count": 8,
   "metadata": {
    "collapsed": true
   },
   "outputs": [],
   "source": [
    "def CalculateZscore(col,expected_mean):\n",
    "    length=len(df_fail_success)\n",
    "    z_score = (SampleMean(col)-expected_mean)/(StandardDeviation(col)/math.sqrt(length))\n",
    "    print('The z score for sample mean is {}'.format(z_score))\n",
    "    return z_score"
   ]
  },
  {
   "cell_type": "code",
   "execution_count": 9,
   "metadata": {
    "collapsed": true
   },
   "outputs": [],
   "source": [
    "def CalculateZstat(colx,coly):\n",
    "    zstat, pvalue = wstats.ztest(df_fail_success[colx],df_fail_success[coly], alternative='two-sided',\n",
    "                    value=0, usevar='pooled', ddof=1.0)\n",
    "    print ('The z stat is '+str(zstat)+ ' and p value is ' +str(pvalue))"
   ]
  },
  {
   "cell_type": "code",
   "execution_count": 10,
   "metadata": {
    "collapsed": true
   },
   "outputs": [],
   "source": [
    "collist=[\n",
    "#'project_id',              \n",
    "#'name',\n",
    "#'userid',\n",
    "#'exchange_rate',\n",
    "#'state',\n",
    "#'state_changed_at', \n",
    "#'spotlight',        \n",
    "#'goal',\n",
    "#'pledged',                 \n",
    "####\n",
    "#'created_at',\n",
    "#'deadline',\n",
    "#'launched_at',\n",
    "#######\n",
    "#'country',\n",
    "#location_type',\n",
    "#'category',             \n",
    "#staff_pick',\n",
    "'backers_count',\n",
    "'usd_pledged',\n",
    "'usd_goal',\n",
    "'pledge_count_ratio',\n",
    "'pledge_goal_ratio',\n",
    "'pledge_extra_goal_ratio',\n",
    "'deadline_days',\n",
    "'state_change_days']    \n",
    "    "
   ]
  },
  {
   "cell_type": "code",
   "execution_count": 91,
   "metadata": {},
   "outputs": [
    {
     "name": "stdout",
     "output_type": "stream",
     "text": [
      "backers_count\n",
      "The sample mean is 146.58372796257203\n"
     ]
    },
    {
     "data": {
      "text/plain": [
       "146.58372796257203"
      ]
     },
     "execution_count": 91,
     "metadata": {},
     "output_type": "execute_result"
    },
    {
     "name": "stdout",
     "output_type": "stream",
     "text": [
      "The sample standard deviation is 1279.596989288646\n"
     ]
    },
    {
     "data": {
      "text/plain": [
       "1279.596989288646"
      ]
     },
     "execution_count": 91,
     "metadata": {},
     "output_type": "execute_result"
    },
    {
     "name": "stdout",
     "output_type": "stream",
     "text": [
      "The sample mean is 146.58372796257203\n",
      "The sample standard deviation is 1279.596989288646\n",
      "The z score for sample mean is 41.77287751205059\n"
     ]
    },
    {
     "data": {
      "text/plain": [
       "41.77287751205059"
      ]
     },
     "execution_count": 91,
     "metadata": {},
     "output_type": "execute_result"
    },
    {
     "name": "stdout",
     "output_type": "stream",
     "text": [
      "usd_pledged\n",
      "The sample mean is 12382.810713403365\n"
     ]
    },
    {
     "data": {
      "text/plain": [
       "12382.810713403365"
      ]
     },
     "execution_count": 91,
     "metadata": {},
     "output_type": "execute_result"
    },
    {
     "name": "stdout",
     "output_type": "stream",
     "text": [
      "The sample standard deviation is 121908.93520249204\n"
     ]
    },
    {
     "data": {
      "text/plain": [
       "121908.93520249204"
      ]
     },
     "execution_count": 91,
     "metadata": {},
     "output_type": "execute_result"
    },
    {
     "name": "stdout",
     "output_type": "stream",
     "text": [
      "The sample mean is 146.58372796257203\n",
      "The sample standard deviation is 1279.596989288646\n",
      "The z score for sample mean is 41.77287751205059\n"
     ]
    },
    {
     "data": {
      "text/plain": [
       "41.77287751205059"
      ]
     },
     "execution_count": 91,
     "metadata": {},
     "output_type": "execute_result"
    },
    {
     "name": "stdout",
     "output_type": "stream",
     "text": [
      "usd_goal\n",
      "The sample mean is 41928.73335935933\n"
     ]
    },
    {
     "data": {
      "text/plain": [
       "41928.73335935933"
      ]
     },
     "execution_count": 91,
     "metadata": {},
     "output_type": "execute_result"
    },
    {
     "name": "stdout",
     "output_type": "stream",
     "text": [
      "The sample standard deviation is 1031763.6689745891\n"
     ]
    },
    {
     "data": {
      "text/plain": [
       "1031763.6689745891"
      ]
     },
     "execution_count": 91,
     "metadata": {},
     "output_type": "execute_result"
    },
    {
     "name": "stdout",
     "output_type": "stream",
     "text": [
      "The sample mean is 146.58372796257203\n",
      "The sample standard deviation is 1279.596989288646\n",
      "The z score for sample mean is 41.77287751205059\n"
     ]
    },
    {
     "data": {
      "text/plain": [
       "41.77287751205059"
      ]
     },
     "execution_count": 91,
     "metadata": {},
     "output_type": "execute_result"
    },
    {
     "name": "stdout",
     "output_type": "stream",
     "text": [
      "pledge_count_ratio\n",
      "The sample mean is 67.92640673754087\n"
     ]
    },
    {
     "data": {
      "text/plain": [
       "67.92640673754087"
      ]
     },
     "execution_count": 91,
     "metadata": {},
     "output_type": "execute_result"
    },
    {
     "name": "stdout",
     "output_type": "stream",
     "text": [
      "The sample standard deviation is 132.43452406386024\n"
     ]
    },
    {
     "data": {
      "text/plain": [
       "132.43452406386024"
      ]
     },
     "execution_count": 91,
     "metadata": {},
     "output_type": "execute_result"
    },
    {
     "name": "stdout",
     "output_type": "stream",
     "text": [
      "The sample mean is 146.58372796257203\n",
      "The sample standard deviation is 1279.596989288646\n",
      "The z score for sample mean is 41.77287751205059\n"
     ]
    },
    {
     "data": {
      "text/plain": [
       "41.77287751205059"
      ]
     },
     "execution_count": 91,
     "metadata": {},
     "output_type": "execute_result"
    },
    {
     "name": "stdout",
     "output_type": "stream",
     "text": [
      "pledge_goal_ratio\n",
      "The sample mean is 3.799182233125939\n"
     ]
    },
    {
     "data": {
      "text/plain": [
       "3.799182233125939"
      ]
     },
     "execution_count": 91,
     "metadata": {},
     "output_type": "execute_result"
    },
    {
     "name": "stdout",
     "output_type": "stream",
     "text": [
      "The sample standard deviation is 247.0830212979435\n"
     ]
    },
    {
     "data": {
      "text/plain": [
       "247.0830212979435"
      ]
     },
     "execution_count": 91,
     "metadata": {},
     "output_type": "execute_result"
    },
    {
     "name": "stdout",
     "output_type": "stream",
     "text": [
      "The sample mean is 146.58372796257203\n",
      "The sample standard deviation is 1279.596989288646\n",
      "The z score for sample mean is 41.77287751205059\n"
     ]
    },
    {
     "data": {
      "text/plain": [
       "41.77287751205059"
      ]
     },
     "execution_count": 91,
     "metadata": {},
     "output_type": "execute_result"
    },
    {
     "name": "stdout",
     "output_type": "stream",
     "text": [
      "pledge_extra_goal_ratio\n",
      "The sample mean is -inf\n"
     ]
    },
    {
     "data": {
      "text/plain": [
       "-inf"
      ]
     },
     "execution_count": 91,
     "metadata": {},
     "output_type": "execute_result"
    },
    {
     "name": "stdout",
     "output_type": "stream",
     "text": [
      "The sample standard deviation is nan\n"
     ]
    },
    {
     "data": {
      "text/plain": [
       "nan"
      ]
     },
     "execution_count": 91,
     "metadata": {},
     "output_type": "execute_result"
    },
    {
     "name": "stdout",
     "output_type": "stream",
     "text": [
      "The sample mean is 146.58372796257203\n",
      "The sample standard deviation is 1279.596989288646\n",
      "The z score for sample mean is 41.77287751205059\n"
     ]
    },
    {
     "data": {
      "text/plain": [
       "41.77287751205059"
      ]
     },
     "execution_count": 91,
     "metadata": {},
     "output_type": "execute_result"
    },
    {
     "name": "stdout",
     "output_type": "stream",
     "text": [
      "deadline_days\n",
      "The sample mean is 33.41615792776859\n"
     ]
    },
    {
     "data": {
      "text/plain": [
       "33.41615792776859"
      ]
     },
     "execution_count": 91,
     "metadata": {},
     "output_type": "execute_result"
    },
    {
     "name": "stdout",
     "output_type": "stream",
     "text": [
      "The sample standard deviation is 12.285570467129684\n"
     ]
    },
    {
     "data": {
      "text/plain": [
       "12.285570467129684"
      ]
     },
     "execution_count": 91,
     "metadata": {},
     "output_type": "execute_result"
    },
    {
     "name": "stdout",
     "output_type": "stream",
     "text": [
      "The sample mean is 146.58372796257203\n",
      "The sample standard deviation is 1279.596989288646\n",
      "The z score for sample mean is 41.77287751205059\n"
     ]
    },
    {
     "data": {
      "text/plain": [
       "41.77287751205059"
      ]
     },
     "execution_count": 91,
     "metadata": {},
     "output_type": "execute_result"
    },
    {
     "name": "stdout",
     "output_type": "stream",
     "text": [
      "state_change_days\n",
      "The sample mean is 33.418471818083844\n"
     ]
    },
    {
     "data": {
      "text/plain": [
       "33.418471818083844"
      ]
     },
     "execution_count": 91,
     "metadata": {},
     "output_type": "execute_result"
    },
    {
     "name": "stdout",
     "output_type": "stream",
     "text": [
      "The sample standard deviation is 12.312039112771824\n"
     ]
    },
    {
     "data": {
      "text/plain": [
       "12.312039112771824"
      ]
     },
     "execution_count": 91,
     "metadata": {},
     "output_type": "execute_result"
    },
    {
     "name": "stdout",
     "output_type": "stream",
     "text": [
      "The sample mean is 146.58372796257203\n",
      "The sample standard deviation is 1279.596989288646\n",
      "The z score for sample mean is 41.77287751205059\n"
     ]
    },
    {
     "data": {
      "text/plain": [
       "41.77287751205059"
      ]
     },
     "execution_count": 91,
     "metadata": {},
     "output_type": "execute_result"
    }
   ],
   "source": [
    "for col in collist:#[::-1]:\n",
    "    print(col)\n",
    "    SampleMean(col)\n",
    "    StandardDeviation(col)\n",
    "    CalculateZscore('backers_count',12)"
   ]
  },
  {
   "cell_type": "code",
   "execution_count": 92,
   "metadata": {},
   "outputs": [
    {
     "name": "stdout",
     "output_type": "stream",
     "text": [
      "The CorrelationCofficent is 0.00896336096682437 and p value is 0.0003708406908850167\n"
     ]
    },
    {
     "data": {
      "text/plain": [
       "(0.0089633609668243706, 0.00037084069088501672)"
      ]
     },
     "execution_count": 92,
     "metadata": {},
     "output_type": "execute_result"
    }
   ],
   "source": [
    "CorrelationCofficent('backers_count','usd_goal')"
   ]
  },
  {
   "cell_type": "code",
   "execution_count": null,
   "metadata": {
    "collapsed": true
   },
   "outputs": [],
   "source": []
  },
  {
   "cell_type": "code",
   "execution_count": null,
   "metadata": {
    "collapsed": true
   },
   "outputs": [],
   "source": []
  },
  {
   "cell_type": "code",
   "execution_count": 93,
   "metadata": {
    "collapsed": true
   },
   "outputs": [
    {
     "data": {
      "text/plain": [
       "<matplotlib.axes._subplots.AxesSubplot at 0x1be6a401320>"
      ]
     },
     "execution_count": 93,
     "metadata": {},
     "output_type": "execute_result"
    },
    {
     "data": {
      "image/png": "[encoded data removed]",
      "text/plain": [
       "<matplotlib.figure.Figure at 0x1be6a3d1630>"
      ]
     },
     "metadata": {},
     "output_type": "display_data"
    }
   ],
   "source": [
    "#check by plotting the graph\n",
    "sns.distplot(df_fail_success.backers_count,bins=200)"
   ]
  },
  {
   "cell_type": "code",
   "execution_count": null,
   "metadata": {
    "collapsed": true
   },
   "outputs": [],
   "source": [
    "stats.pearsonr(df_final_months.backers_count,df_final_months.usd_goal)"
   ]
  },
  {
   "cell_type": "code",
   "execution_count": 80,
   "metadata": {
    "collapsed": true
   },
   "outputs": [],
   "source": [
    "#df=df_fail_success.loc[:130,['state','backers_count']]\n",
    "#df = pd.read_csv('../human_temp_assignment/data/human_body_temperature.csv')\n",
    "#sns.pairplot(df, hue='gender',palette =('blue','#DE3163'))\n",
    "#df\n",
    "#sns.pairplot(df, hue='state',palette =('blue','#DE3163'))"
   ]
  },
  {
   "cell_type": "code",
   "execution_count": 74,
   "metadata": {},
   "outputs": [
    {
     "data": {
      "text/html": [
       "<div>\n",
       "<style>\n",
       "    .dataframe thead tr:only-child th {\n",
       "        text-align: right;\n",
       "    }\n",
       "\n",
       "    .dataframe thead th {\n",
       "        text-align: left;\n",
       "    }\n",
       "\n",
       "    .dataframe tbody tr th {\n",
       "        vertical-align: top;\n",
       "    }\n",
       "</style>\n",
       "<table border=\"1\" class=\"dataframe\">\n",
       "  <thead>\n",
       "    <tr style=\"text-align: right;\">\n",
       "      <th></th>\n",
       "      <th>state</th>\n",
       "      <th>backers_count</th>\n",
       "    </tr>\n",
       "  </thead>\n",
       "  <tbody>\n",
       "    <tr>\n",
       "      <th>0</th>\n",
       "      <td>Successful</td>\n",
       "      <td>12</td>\n",
       "    </tr>\n",
       "    <tr>\n",
       "      <th>1</th>\n",
       "      <td>Successful</td>\n",
       "      <td>40</td>\n",
       "    </tr>\n",
       "    <tr>\n",
       "      <th>2</th>\n",
       "      <td>Successful</td>\n",
       "      <td>57</td>\n",
       "    </tr>\n",
       "    <tr>\n",
       "      <th>3</th>\n",
       "      <td>Successful</td>\n",
       "      <td>114</td>\n",
       "    </tr>\n",
       "    <tr>\n",
       "      <th>4</th>\n",
       "      <td>Successful</td>\n",
       "      <td>31</td>\n",
       "    </tr>\n",
       "  </tbody>\n",
       "</table>\n",
       "</div>"
      ],
      "text/plain": [
       "        state  backers_count\n",
       "0  Successful  12           \n",
       "1  Successful  40           \n",
       "2  Successful  57           \n",
       "3  Successful  114          \n",
       "4  Successful  31           "
      ]
     },
     "execution_count": 74,
     "metadata": {},
     "output_type": "execute_result"
    }
   ],
   "source": [
    "df.head()"
   ]
  },
  {
   "cell_type": "code",
   "execution_count": 75,
   "metadata": {},
   "outputs": [
    {
     "name": "stdout",
     "output_type": "stream",
     "text": [
      "<class 'pandas.core.frame.DataFrame'>\n",
      "Int64Index: 157743 entries, 0 to 172876\n",
      "Data columns (total 2 columns):\n",
      "state            157743 non-null object\n",
      "backers_count    157743 non-null int64\n",
      "dtypes: int64(1), object(1)\n",
      "memory usage: 8.6+ MB\n"
     ]
    }
   ],
   "source": [
    "df.info()"
   ]
  },
  {
   "cell_type": "code",
   "execution_count": null,
   "metadata": {
    "collapsed": true
   },
   "outputs": [],
   "source": []
  },
  {
   "cell_type": "code",
   "execution_count": 19,
   "metadata": {
    "collapsed": true
   },
   "outputs": [],
   "source": [
    "# check if the col has normal distribution\n",
    "def CalculateNormalTest(col):\n",
    "    #return df_final_months.loc[: ,[col]].describe()\n",
    "    #eturn df_final_months[col].describe()\n",
    "    # to test normal distibution , in step 1, scipy normaltest function\n",
    "    rhi_value,p_value=stats.normaltest(df_final_months[col])\n",
    "    return (rhi_value,p_value)"
   ]
  },
  {
   "cell_type": "code",
   "execution_count": 20,
   "metadata": {},
   "outputs": [
    {
     "name": "stdout",
     "output_type": "stream",
     "text": [
      "621981.31871\n",
      "0.0\n"
     ]
    }
   ],
   "source": [
    "rhi_value,p_value=stats.normaltest(df_final_months.backers_count)\n",
    "print (rhi_value)\n",
    "print(p_value)"
   ]
  },
  {
   "cell_type": "code",
   "execution_count": 67,
   "metadata": {},
   "outputs": [
    {
     "name": "stdout",
     "output_type": "stream",
     "text": [
      "Help on function ztest in module statsmodels.stats.weightstats:\n",
      "\n",
      "ztest(x1, x2=None, value=0, alternative='two-sided', usevar='pooled', ddof=1.0)\n",
      "    test for mean based on normal distribution, one or two samples\n",
      "    \n",
      "    In the case of two samples, the samples are assumed to be independent.\n",
      "    \n",
      "    Parameters\n",
      "    ----------\n",
      "    x1, x2 : array_like, 1-D or 2-D\n",
      "        two independent samples\n",
      "    value : float\n",
      "        In the one sample case, value is the mean of x1 under the Null\n",
      "        hypothesis.\n",
      "        In the two sample case, value is the difference between mean of x1 and\n",
      "        mean of x2 under the Null hypothesis. The test statistic is\n",
      "        `x1_mean - x2_mean - value`.\n",
      "    alternative : string\n",
      "        The alternative hypothesis, H1, has to be one of the following\n",
      "    \n",
      "           'two-sided': H1: difference in means not equal to value (default)\n",
      "           'larger' :   H1: difference in means larger than value\n",
      "           'smaller' :  H1: difference in means smaller than value\n",
      "    \n",
      "    usevar : string, 'pooled'\n",
      "        Currently, only 'pooled' is implemented.\n",
      "        If ``pooled``, then the standard deviation of the samples is assumed to be\n",
      "        the same. see CompareMeans.ztest_ind for different options.\n",
      "    ddof : int\n",
      "        Degrees of freedom use in the calculation of the variance of the mean\n",
      "        estimate. In the case of comparing means this is one, however it can\n",
      "        be adjusted for testing other statistics (proportion, correlation)\n",
      "    \n",
      "    Returns\n",
      "    -------\n",
      "    tstat : float\n",
      "        test statisic\n",
      "    pvalue : float\n",
      "        pvalue of the t-test\n",
      "    \n",
      "    Notes\n",
      "    -----\n",
      "    usevar not implemented, is always pooled in two sample case\n",
      "    use CompareMeans instead.\n",
      "\n"
     ]
    }
   ],
   "source": [
    "#help(stats.normaltest)\n",
    "#help(stats.pearsonr)\n",
    "help(wstats.ztest)"
   ]
  },
  {
   "cell_type": "code",
   "execution_count": null,
   "metadata": {
    "collapsed": true
   },
   "outputs": [],
   "source": [
    "# rough\n",
    "for col in collist:#[::-1]:\n",
    "    print(col)\n",
    "    chi_value,p_value=CalculateNormalTest(col)\n",
    "    print('Chi value: '+ str(chi_value))\n",
    "    print('P value: '+ str(p_value))\n",
    "\n",
    "    if (p_value>stat_significance):\n",
    "        print('This distribution seems to be normal distribution')\n",
    "    else:\n",
    "        print('This distribution is not a normal distribution')"
   ]
  }
 ],
 "metadata": {
  "kernelspec": {
   "display_name": "Python 3",
   "language": "python",
   "name": "python3"
  },
  "language_info": {
   "codemirror_mode": {
    "name": "ipython",
    "version": 3
   },
   "file_extension": ".py",
   "mimetype": "text/x-python",
   "name": "python",
   "nbconvert_exporter": "python",
   "pygments_lexer": "ipython3",
   "version": "3.6.2"
  }
 },
 "nbformat": 4,
 "nbformat_minor": 2
}
